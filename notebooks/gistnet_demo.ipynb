{
  "cells": [
    {
      "cell_type": "markdown",
      "metadata": {
        "id": "title"
      },
      "source": [
        "# GistNet Training Demo\n",
        "\n",
        "This notebook reproduces the Phase 2 GistNet workflow entirely from Colab. It clones the MegaContext repository, downloads a curated subset of Project Gutenberg titles (<1 GB), prepares Arrow shards, and trains the lightweight gist model."
      ]
    },
    {
      "cell_type": "markdown",
      "metadata": {
        "id": "prereqs"
      },
      "source": [
        "## 1. Clone the repository & install dependencies\n",
        "\n",
        "If you're running locally with the repo already on disk, skip this cell."
      ]
    },
    {
      "cell_type": "code",
      "execution_count": null,
      "metadata": {
        "id": "setup"
      },
      "outputs": [],
      "source": [
        "!git clone https://github.com/brandf/MegaContext.git\n",
        "%cd MegaContext\n"
      ]
    },
    {
      "cell_type": "code",
      "execution_count": null,
      "id": "f19afbd3",
      "metadata": {},
      "outputs": [],
      "source": [
        "!git pull"
      ]
    },
    {
      "cell_type": "code",
      "execution_count": null,
      "id": "36efafea",
      "metadata": {},
      "outputs": [],
      "source": [
        "!pip install -r requirements.txt\n",
        "!pip install -e .[dev]"
      ]
    },
    {
      "cell_type": "markdown",
      "id": "d4d979a7",
      "metadata": {
        "id": "download"
      },
      "source": [
        "## 2. Download the Gutenberg subset\n",
        "\n",
        "Feel free to trim or expand the list inside `tools/download_gutenberg.sh`. The default selection is under 1 GB."
      ]
    },
    {
      "cell_type": "code",
      "execution_count": null,
      "id": "8154686a",
      "metadata": {
        "id": "fetch-data"
      },
      "outputs": [],
      "source": [
        "!bash tools/download_gutenberg.sh data/raw/gutenberg"
      ]
    },
    {
      "cell_type": "markdown",
      "id": "2c9bd06d",
      "metadata": {
        "id": "prepare"
      },
      "source": [
        "## 3. Prepare the dataset shard\n",
        "\n",
        "The `configs/data/gutenberg_sample.yaml` file uses `block_size=32` and `horizon=64`, matching the paper plan requirements."
      ]
    },
    {
      "cell_type": "code",
      "execution_count": null,
      "id": "6856f90d",
      "metadata": {},
      "outputs": [],
      "source": [
        "!rm -f data/gutenberg_sample/train.arrow"
      ]
    },
    {
      "cell_type": "code",
      "execution_count": null,
      "id": "34953497",
      "metadata": {
        "id": "prepare-dataset"
      },
      "outputs": [],
      "source": [
        "%run tools/prepare_dataset.py --config configs/data/gutenberg_sample.yaml\n"
      ]
    },
    {
      "cell_type": "markdown",
      "metadata": {
        "id": "train"
      },
      "source": [
        "## 4. Train the GistNet model\n",
        "\n",
        "This step auto-displays the loss curve inside Colab and saves artifacts under `artifacts/gistnet/`."
      ]
    },
    {
      "cell_type": "code",
      "execution_count": null,
      "metadata": {
        "id": "train-model"
      },
      "outputs": [],
      "source": [
        "%run tools/train_gistnet.py \\\n",
        "    --dataset data/gutenberg_sample/train.arrow \\\n",
        "    --config configs/runs/gistnet_example.yaml \\\n",
        "    --metrics-path artifacts/gistnet/metrics.json \\\n",
        "    --save-plot artifacts/gistnet/loss.png"
      ]
    },
    {
      "cell_type": "markdown",
      "metadata": {
        "id": "next-steps"
      },
      "source": [
        "## 5. Next steps\n",
        "\n",
        "* Run the ΔNLL smoke eval (coming in Task 2.4).\n",
        "* Push metrics & checkpoints to W&B or Novita storage with `--use-wandb`.\n",
        "* Swap `configs/runs/gistnet_example.yaml` for a larger hidden size when you have a bigger teacher."
      ]
    }
  ],
  "metadata": {
    "colab": {
      "name": "gistnet_demo.ipynb"
    },
    "kernelspec": {
      "display_name": "Python 3",
      "language": "python",
      "name": "python3"
    },
    "language_info": {
      "name": "python",
      "version": ""
    }
  },
  "nbformat": 4,
  "nbformat_minor": 5
}
